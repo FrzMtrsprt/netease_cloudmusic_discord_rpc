{
 "cells": [
  {
   "cell_type": "code",
   "execution_count": 1,
   "metadata": {
    "collapsed": true,
    "pycharm": {
     "name": "#%%\n"
    }
   },
   "outputs": [],
   "source": [
    "import wmi\n",
    "import gc\n",
    "supported_cloudmusic_version = '2.10.6.3993'\n",
    "wmic = wmi.WMI()\n",
    "process = wmic.Win32_Process(name=\"cloudmusic.exe\")\n",
    "process = [p for p in process if '--type=' not in p.ole_object.CommandLine]\n",
    "if not process:\n",
    "    raise RuntimeError('No candidate process found')\n",
    "elif len(process) != 1:\n",
    "    raise RuntimeError('Multiple candidate processes found!')\n",
    "else:\n",
    "    process = process[0]\n",
    "    from win32com.client import Dispatch\n",
    "    ver_parser = Dispatch('Scripting.FileSystemObject')\n",
    "    info = ver_parser.GetFileVersion(process.ExecutablePath)\n",
    "    if info != supported_cloudmusic_version: raise RuntimeError(f'This version is not supported yet: {info}. Supported version: {supported_cloudmusic_version}')\n",
    "    pid = process.ole_object.ProcessId\n",
    "    del process\n",
    "    del wmic\n",
    "    del info\n",
    "    del ver_parser\n",
    "    del Dispatch\n",
    "    gc.collect()"
   ]
  },
  {
   "cell_type": "code",
   "execution_count": 4,
   "outputs": [
    {
     "data": {
      "text/plain": "0"
     },
     "execution_count": 4,
     "metadata": {},
     "output_type": "execute_result"
    }
   ],
   "source": [
    "from pyMeow import open_process, get_module, r_float64, close_process, get_module\n",
    "import psutil\n",
    "current_offset = 0xA65568\n",
    "maxlen_offset = 0xB16438  # TODO: does not work\n",
    "\n",
    "process = open_process(pid)\n",
    "ps_util_process = psutil.Process(pid)\n",
    "base_address = get_module(process, 'cloudmusic.dll')['base']\n",
    "maxlen = r_float64(process, base_address + maxlen_offset)\n",
    "current = r_float64(process, base_address + current_offset)\n",
    "close_process(process)\n",
    "gc.collect()"
   ],
   "metadata": {
    "collapsed": false,
    "pycharm": {
     "name": "#%%\n"
    }
   }
  },
  {
   "cell_type": "code",
   "execution_count": 5,
   "outputs": [
    {
     "data": {
      "text/plain": "'星辰大海 - 黄霄雲'"
     },
     "execution_count": 5,
     "metadata": {},
     "output_type": "execute_result"
    }
   ],
   "source": [
    "import ctypes\n",
    "from ctypes import wintypes\n",
    "\n",
    "user32 = ctypes.windll.user32\n",
    "\n",
    "WNDENUMPROC = ctypes.WINFUNCTYPE(\n",
    "    wintypes.BOOL,\n",
    "    wintypes.HWND,    # _In_ hWnd\n",
    "    wintypes.LPARAM,) # _In_ lParam\n",
    "\n",
    "user32.EnumWindows.argtypes = (\n",
    "   WNDENUMPROC,      # _In_ lpEnumFunc\n",
    "   wintypes.LPARAM,) # _In_ lParam\n",
    "\n",
    "user32.IsWindowVisible.argtypes = (\n",
    "    wintypes.HWND,) # _In_ hWnd\n",
    "\n",
    "user32.GetWindowThreadProcessId.restype = wintypes.DWORD\n",
    "user32.GetWindowThreadProcessId.argtypes = (\n",
    "  wintypes.HWND,     # _In_      hWnd\n",
    "  wintypes.LPDWORD,) # _Out_opt_ lpdwProcessId\n",
    "\n",
    "user32.GetWindowTextLengthW.argtypes = (\n",
    "   wintypes.HWND,) # _In_ hWnd\n",
    "\n",
    "user32.GetWindowTextW.argtypes = (\n",
    "    wintypes.HWND,   # _In_  hWnd\n",
    "    wintypes.LPWSTR, # _Out_ lpString\n",
    "    ctypes.c_int,)   # _In_  nMaxCount\n",
    "\n",
    "def get_title(pid) -> str:\n",
    "    ret = ''\n",
    "    @WNDENUMPROC\n",
    "    def enum_proc(hWnd, lParam):\n",
    "        nonlocal ret\n",
    "        if user32.IsWindowVisible(hWnd):\n",
    "            _pid = wintypes.DWORD()\n",
    "            user32.GetWindowThreadProcessId(hWnd, ctypes.byref(_pid))\n",
    "            length = user32.GetWindowTextLengthW(hWnd) + 1\n",
    "            title = ctypes.create_unicode_buffer(length)\n",
    "            user32.GetWindowTextW(hWnd, title, length)\n",
    "            if _pid.value == pid: ret = title.value\n",
    "        return True\n",
    "    user32.EnumWindows(enum_proc, 0)\n",
    "    return ret\n",
    "\n",
    "get_title(pid)"
   ],
   "metadata": {
    "collapsed": false,
    "pycharm": {
     "name": "#%%\n"
    }
   }
  }
 ],
 "metadata": {
  "kernelspec": {
   "display_name": "Python 3",
   "language": "python",
   "name": "python3"
  },
  "language_info": {
   "codemirror_mode": {
    "name": "ipython",
    "version": 2
   },
   "file_extension": ".py",
   "mimetype": "text/x-python",
   "name": "python",
   "nbconvert_exporter": "python",
   "pygments_lexer": "ipython2",
   "version": "2.7.6"
  }
 },
 "nbformat": 4,
 "nbformat_minor": 0
}