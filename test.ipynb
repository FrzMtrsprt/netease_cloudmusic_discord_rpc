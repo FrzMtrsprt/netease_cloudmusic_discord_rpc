{
 "cells": [
  {
   "cell_type": "code",
   "execution_count": 2,
   "metadata": {
    "collapsed": true
   },
   "outputs": [],
   "source": [
    "import wmi\n",
    "import gc\n",
    "wmic = wmi.WMI()\n",
    "process = wmic.Win32_Process(name=\"cloudmusic.exe\")\n",
    "process = [p for p in process if '--type=' not in p.ole_object.CommandLine]\n",
    "if not process:\n",
    "    raise RuntimeError('No candidate process found')\n",
    "elif len(process) != 1:\n",
    "    raise RuntimeError('Multiple candidate processes found!')\n",
    "else:\n",
    "    process = process[0]\n",
    "    pid = process.ole_object.ProcessId\n",
    "    del process\n",
    "    del wmic\n",
    "    gc.collect()"
   ]
  },
  {
   "cell_type": "code",
   "execution_count": 5,
   "metadata": {
    "collapsed": false
   },
   "outputs": [],
   "source": [
    "from pyMeow import open_process, get_module, r_float64, close_process, get_module, r_bytes, r_uint\n",
    "import psutil\n",
    "\n",
    "process = open_process(pid)\n",
    "ps_util_process = psutil.Process(pid)\n",
    "base_address = get_module(process, 'cloudmusic.dll')['base']"
   ]
  },
  {
   "cell_type": "code",
   "execution_count": null,
   "metadata": {
    "collapsed": false
   },
   "outputs": [],
   "source": [
    "for offset in range(0xA00000, 0xC00000): # Change to estimated memory range\n",
    "    try:\n",
    "        songid_array = r_uint(process, base_address + offset)\n",
    "        song_id = r_bytes(process, songid_array, 0x14).decode('utf-16')\n",
    "        if song_id == '1458767558':  # Change to current song ID\n",
    "            print(f'found song array offset at {hex(offset)}: {song_id}')\n",
    "    except Exception as e:\n",
    "        pass\n",
    "\n",
    "    try:\n",
    "        length = r_float64(process, base_address + offset)\n",
    "        if length > 255 and length < 256:  # Change to song length, in seconds\n",
    "            print(f'found length at {hex(offset)}: {length}')\n",
    "    except Exception as e:\n",
    "        pass\n",
    "\n",
    "    try:\n",
    "        current = r_float64(process, base_address + offset)\n",
    "        if current > 145 and current < 146:  # Change to current progress, in seconds\n",
    "            print(f'found current at {hex(offset)}: {current}')\n",
    "    except Exception as e:\n",
    "        pass"
   ]
  },
  {
   "cell_type": "code",
   "execution_count": 4,
   "metadata": {
    "collapsed": false
   },
   "outputs": [
    {
     "data": {
      "text/plain": [
       "'0x3ac5654'"
      ]
     },
     "execution_count": 4,
     "metadata": {},
     "output_type": "execute_result"
    }
   ],
   "source": [
    "hex(base_address + 0xb15654)"
   ]
  },
  {
   "cell_type": "code",
   "execution_count": 5,
   "metadata": {
    "collapsed": false
   },
   "outputs": [
    {
     "data": {
      "text/plain": [
       "'星辰大海 - 黄霄雲'"
      ]
     },
     "execution_count": 5,
     "metadata": {},
     "output_type": "execute_result"
    }
   ],
   "source": [
    "import ctypes\n",
    "from ctypes import wintypes\n",
    "\n",
    "user32 = ctypes.windll.user32\n",
    "\n",
    "WNDENUMPROC = ctypes.WINFUNCTYPE(\n",
    "    wintypes.BOOL,\n",
    "    wintypes.HWND,    # _In_ hWnd\n",
    "    wintypes.LPARAM,) # _In_ lParam\n",
    "\n",
    "user32.EnumWindows.argtypes = (\n",
    "   WNDENUMPROC,      # _In_ lpEnumFunc\n",
    "   wintypes.LPARAM,) # _In_ lParam\n",
    "\n",
    "user32.IsWindowVisible.argtypes = (\n",
    "    wintypes.HWND,) # _In_ hWnd\n",
    "\n",
    "user32.GetWindowThreadProcessId.restype = wintypes.DWORD\n",
    "user32.GetWindowThreadProcessId.argtypes = (\n",
    "  wintypes.HWND,     # _In_      hWnd\n",
    "  wintypes.LPDWORD,) # _Out_opt_ lpdwProcessId\n",
    "\n",
    "user32.GetWindowTextLengthW.argtypes = (\n",
    "   wintypes.HWND,) # _In_ hWnd\n",
    "\n",
    "user32.GetWindowTextW.argtypes = (\n",
    "    wintypes.HWND,   # _In_  hWnd\n",
    "    wintypes.LPWSTR, # _Out_ lpString\n",
    "    ctypes.c_int,)   # _In_  nMaxCount\n",
    "\n",
    "def get_title(pid) -> str:\n",
    "    ret = ''\n",
    "    @WNDENUMPROC\n",
    "    def enum_proc(hWnd, lParam):\n",
    "        nonlocal ret\n",
    "        if user32.IsWindowVisible(hWnd):\n",
    "            _pid = wintypes.DWORD()\n",
    "            user32.GetWindowThreadProcessId(hWnd, ctypes.byref(_pid))\n",
    "            length = user32.GetWindowTextLengthW(hWnd) + 1\n",
    "            title = ctypes.create_unicode_buffer(length)\n",
    "            user32.GetWindowTextW(hWnd, title, length)\n",
    "            if _pid.value == pid: ret = title.value\n",
    "        return True\n",
    "    user32.EnumWindows(enum_proc, 0)\n",
    "    return ret\n",
    "\n",
    "get_title(pid)"
   ]
  }
 ],
 "metadata": {
  "kernelspec": {
   "display_name": "Python 3",
   "language": "python",
   "name": "python3"
  },
  "language_info": {
   "codemirror_mode": {
    "name": "ipython",
    "version": 3
   },
   "file_extension": ".py",
   "mimetype": "text/x-python",
   "name": "python",
   "nbconvert_exporter": "python",
   "pygments_lexer": "ipython3",
   "version": "3.11.2"
  }
 },
 "nbformat": 4,
 "nbformat_minor": 0
}
