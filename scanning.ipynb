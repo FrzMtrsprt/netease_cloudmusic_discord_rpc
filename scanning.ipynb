{
 "cells": [
  {
   "cell_type": "code",
   "execution_count": 1,
   "outputs": [
    {
     "name": "stdout",
     "output_type": "stream",
     "text": [
      "found version: 2.10.11.4930\n"
     ]
    }
   ],
   "source": [
    "import wmi\n",
    "import gc\n",
    "from win32api import GetFileVersionInfo, HIWORD, LOWORD\n",
    "wmic = wmi.WMI()\n",
    "process = wmic.Win32_Process(name=\"cloudmusic.exe\")\n",
    "process = [p for p in process if '--type=' not in p.ole_object.CommandLine]\n",
    "if not process:\n",
    "    raise RuntimeError('No candidate process found')\n",
    "elif len(process) != 1:\n",
    "    raise RuntimeError('Multiple candidate processes found!')\n",
    "else:\n",
    "    process = process[0]\n",
    "    pid = process.ole_object.ProcessId\n",
    "    ver_info = GetFileVersionInfo(process.ole_object.ExecutablePath, '\\\\')\n",
    "    ver = f\"{HIWORD(ver_info['FileVersionMS'])}.{LOWORD(ver_info['FileVersionMS'])}.\" \\\n",
    "          f\"{HIWORD(ver_info['FileVersionLS'])}.{LOWORD(ver_info['FileVersionLS'])}\"\n",
    "    print(f'found version: {ver}')\n",
    "    del process\n",
    "    del wmic\n",
    "    gc.collect()"
   ],
   "metadata": {
    "collapsed": false,
    "ExecuteTime": {
     "end_time": "2023-07-05T03:34:54.602764900Z",
     "start_time": "2023-07-05T03:34:54.384030300Z"
    }
   }
  },
  {
   "cell_type": "code",
   "execution_count": 2,
   "outputs": [
    {
     "name": "stdout",
     "output_type": "stream",
     "text": [
      "base_address: 0x78C30000\n"
     ]
    }
   ],
   "source": [
    "from pyMeow import open_process, get_module, r_float64, r_bytes, r_uint\n",
    "\n",
    "process = open_process(pid)\n",
    "base_address = get_module(process, 'cloudmusic.dll')['base']\n",
    "print('base_address: 0x%X' % base_address)"
   ],
   "metadata": {
    "collapsed": false,
    "ExecuteTime": {
     "end_time": "2023-07-05T03:34:54.628988200Z",
     "start_time": "2023-07-05T03:34:54.605766600Z"
    }
   }
  },
  {
   "cell_type": "code",
   "execution_count": 3,
   "metadata": {
    "collapsed": false,
    "ExecuteTime": {
     "end_time": "2023-07-05T03:35:14.273201900Z",
     "start_time": "2023-07-05T03:34:54.678987400Z"
    }
   },
   "outputs": [
    {
     "name": "stdout",
     "output_type": "stream",
     "text": [
      "found current at 0xA7A580: 64.524000\n",
      "found song array offset at 0xB2BCB0: 411349068\n",
      "found length at 0xB2CA98: 277.995102\n"
     ]
    }
   ],
   "source": [
    "import math\n",
    "\n",
    "found_songarray = False\n",
    "found_length = False\n",
    "found_current = False\n",
    "for offset in range(0xA70000, 0xC20000): # Change to estimated memory range\n",
    "    if found_songarray and found_length and found_current:\n",
    "        break\n",
    "    try:\n",
    "        songid_array = r_uint(process, base_address + offset)\n",
    "        string = '411349068'  # Change to current song ID\n",
    "        song_id = r_bytes(process, songid_array, len(string) * 2).decode('utf-16')\n",
    "        if song_id == string:\n",
    "            print('found song array offset at 0x%X: %s' % (offset, song_id))\n",
    "            found_songarray = True\n",
    "    except Exception as e:\n",
    "        pass\n",
    "\n",
    "    try:\n",
    "        length = r_float64(process, base_address + offset)\n",
    "        if math.floor(length) == 277:  # Change to song length, in seconds\n",
    "            print('found length at 0x%X: %f' % (offset, length))\n",
    "            found_length = True\n",
    "    except Exception as e:\n",
    "        pass\n",
    "\n",
    "    try:\n",
    "        current = r_float64(process, base_address + offset)\n",
    "        if math.floor(current) == 64:  # Change to current progress, in seconds\n",
    "            print('found current at 0x%X: %f' % (offset, current))\n",
    "            found_current = True\n",
    "    except Exception as e:\n",
    "        pass"
   ]
  },
  {
   "cell_type": "code",
   "execution_count": 3,
   "outputs": [],
   "source": [],
   "metadata": {
    "collapsed": false,
    "ExecuteTime": {
     "end_time": "2023-07-05T03:35:14.277359Z",
     "start_time": "2023-07-05T03:35:14.275350500Z"
    }
   }
  }
 ],
 "metadata": {
  "kernelspec": {
   "display_name": "Python 3",
   "language": "python",
   "name": "python3"
  },
  "language_info": {
   "codemirror_mode": {
    "name": "ipython",
    "version": 3
   },
   "file_extension": ".py",
   "mimetype": "text/x-python",
   "name": "python",
   "nbconvert_exporter": "python",
   "pygments_lexer": "ipython3",
   "version": "3.11.2"
  }
 },
 "nbformat": 4,
 "nbformat_minor": 0
}
