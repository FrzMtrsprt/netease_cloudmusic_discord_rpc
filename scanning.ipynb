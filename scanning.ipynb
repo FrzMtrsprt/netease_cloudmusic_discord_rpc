{
 "cells": [
  {
   "cell_type": "code",
   "execution_count": 83,
   "outputs": [
    {
     "name": "stdout",
     "output_type": "stream",
     "text": [
      "found version: 3.0.6.5811\n"
     ]
    }
   ],
   "source": [
    "import wmi\n",
    "import gc\n",
    "from win32api import GetFileVersionInfo, HIWORD, LOWORD\n",
    "wmic = wmi.WMI()\n",
    "process = wmic.Win32_Process(name=\"cloudmusic.exe\")\n",
    "process = [p for p in process if '--type=' not in p.ole_object.CommandLine]\n",
    "if not process:\n",
    "    raise RuntimeError('No candidate process found')\n",
    "elif len(process) != 1:\n",
    "    raise RuntimeError('Multiple candidate processes found!')\n",
    "else:\n",
    "    process = process[0]\n",
    "    pid = process.ole_object.ProcessId\n",
    "    ver_info = GetFileVersionInfo(process.ole_object.ExecutablePath, '\\\\')\n",
    "    ver = f\"{HIWORD(ver_info['FileVersionMS'])}.{LOWORD(ver_info['FileVersionMS'])}.\" \\\n",
    "          f\"{HIWORD(ver_info['FileVersionLS'])}.{LOWORD(ver_info['FileVersionLS'])}\"\n",
    "    print(f'found version: {ver}')\n",
    "    del process\n",
    "    del wmic\n",
    "    gc.collect()"
   ],
   "metadata": {
    "collapsed": false,
    "ExecuteTime": {
     "end_time": "2024-01-21T08:51:49.781127800Z",
     "start_time": "2024-01-21T08:51:49.559128600Z"
    }
   }
  },
  {
   "cell_type": "code",
   "execution_count": 84,
   "outputs": [
    {
     "name": "stdout",
     "output_type": "stream",
     "text": [
      "base_exe_address: 0x7FF6D7440000\n",
      "base_dll_address: 0x7FFD3DCD0000\n"
     ]
    }
   ],
   "source": [
    "from pyMeow import *\n",
    "\n",
    "process = open_process(pid)\n",
    "base_exe_address = get_module(process, 'cloudmusic.exe')['base']\n",
    "base_dll_address = get_module(process, 'cloudmusic.dll')['base']\n",
    "print('base_exe_address: 0x%X' % base_exe_address)\n",
    "print('base_dll_address: 0x%X' % base_dll_address)"
   ],
   "metadata": {
    "collapsed": false,
    "ExecuteTime": {
     "end_time": "2024-01-21T08:51:49.952130400Z",
     "start_time": "2024-01-21T08:51:49.920127200Z"
    }
   }
  },
  {
   "cell_type": "code",
   "execution_count": 6,
   "outputs": [
    {
     "name": "stdout",
     "output_type": "stream",
     "text": [
      "found current at 0xA7A580: 38.851000\n",
      "found song array offset at 0xB2BCB0: 1458767558\n",
      "found length at 0xB2CA98: 255.205306\n"
     ]
    }
   ],
   "source": [
    "# Scanning for V2.x clients\n",
    "import math\n",
    "\n",
    "found_songarray = False\n",
    "found_length = False\n",
    "found_current = False\n",
    "for offset in range(0xA7A580, 0xC20000): # Change to estimated memory range\n",
    "    if found_songarray and found_length and found_current:\n",
    "        break\n",
    "    if not found_songarray:\n",
    "        try:\n",
    "            songid_array = r_uint(process, base_dll_address + offset)\n",
    "            string = '1458767558'  # Change to current song ID\n",
    "            song_id = r_bytes(process, songid_array, len(string) * 2).decode('utf-16')\n",
    "            if song_id == string:\n",
    "                print('found song array offset at 0x%X: %s' % (offset, song_id))\n",
    "                found_songarray = True\n",
    "        except Exception as e:\n",
    "            pass\n",
    "\n",
    "    if not found_length:\n",
    "        try:\n",
    "            length = r_float64(process, base_dll_address + offset)\n",
    "            if math.floor(length) == 255:  # Change to song length, in seconds\n",
    "                print('found length at 0x%X: %f' % (offset, length))\n",
    "                found_length = True\n",
    "        except Exception as e:\n",
    "            pass\n",
    "\n",
    "    if not found_current:\n",
    "        try:\n",
    "            current = r_float64(process, base_dll_address + offset)\n",
    "            if math.floor(current) == 38:  # Change to current progress, in seconds\n",
    "                print('found current at 0x%X: %f' % (offset, current))\n",
    "                found_current = True\n",
    "        except Exception as e:\n",
    "            pass"
   ],
   "metadata": {
    "collapsed": false,
    "ExecuteTime": {
     "end_time": "2023-10-26T15:13:15.516077600Z",
     "start_time": "2023-10-26T15:13:04.607708300Z"
    }
   }
  },
  {
   "cell_type": "code",
   "outputs": [
    {
     "data": {
      "text/plain": "183.82"
     },
     "execution_count": 61,
     "metadata": {},
     "output_type": "execute_result"
    }
   ],
   "source": [
    "r_float64(process, base_dll_address + 0x192B7F0)"
   ],
   "metadata": {
    "collapsed": false,
    "ExecuteTime": {
     "end_time": "2024-01-21T08:36:59.888910400Z",
     "start_time": "2024-01-21T08:36:59.882912600Z"
    }
   },
   "execution_count": 61
  },
  {
   "cell_type": "code",
   "outputs": [
    {
     "data": {
      "text/plain": "[popenfile(path='C:\\\\Windows\\\\Fonts\\\\StaticCache.dat', fd=-1),\n popenfile(path='C:\\\\Program Files\\\\NetEase\\\\CloudMusic\\\\chrome_200_percent.pak', fd=-1),\n popenfile(path='C:\\\\Users\\\\alien\\\\AppData\\\\Local\\\\Netease\\\\CloudMusic\\\\webapp91x64\\\\Local Storage\\\\leveldb\\\\012310.log', fd=-1),\n popenfile(path='C:\\\\Users\\\\alien\\\\AppData\\\\Local\\\\Netease\\\\CloudMusic\\\\webapp91x64\\\\Cache\\\\index', fd=-1),\n popenfile(path='C:\\\\Program Files\\\\WindowsApps\\\\Microsoft.LanguageExperiencePackzh-CN_19041.70.233.0_neutral__8wekyb3d8bbwe\\\\Windows\\\\System32\\\\zh-CN\\\\mswsock.dll.mui', fd=-1),\n popenfile(path='C:\\\\Program Files\\\\WindowsApps\\\\Microsoft.LanguageExperiencePackzh-CN_19041.70.233.0_neutral__8wekyb3d8bbwe\\\\Windows\\\\System32\\\\zh-CN\\\\dsound.dll.mui', fd=-1),\n popenfile(path='C:\\\\Program Files\\\\WindowsApps\\\\Microsoft.LanguageExperiencePackzh-CN_19041.70.233.0_neutral__8wekyb3d8bbwe\\\\Windows\\\\System32\\\\zh-CN\\\\KernelBase.dll.mui', fd=-1),\n popenfile(path='C:\\\\Program Files\\\\WindowsApps\\\\Microsoft.LanguageExperiencePackzh-CN_19041.70.233.0_neutral__8wekyb3d8bbwe\\\\Windows\\\\System32\\\\zh-CN\\\\kernel32.dll.mui', fd=-1),\n popenfile(path='C:\\\\Users\\\\alien\\\\AppData\\\\Local\\\\Netease\\\\CloudMusic\\\\webapp91x64\\\\Visited Links', fd=-1),\n popenfile(path='C:\\\\Users\\\\alien\\\\AppData\\\\Local\\\\Netease\\\\CloudMusic\\\\webapp91x64\\\\Local Storage\\\\leveldb\\\\012311.ldb', fd=-1),\n popenfile(path='C:\\\\Users\\\\alien\\\\AppData\\\\Local\\\\Netease\\\\CloudMusic\\\\NEIM_SYS\\\\nim_core_http.log.nim_mmap', fd=-1),\n popenfile(path='C:\\\\Users\\\\alien\\\\AppData\\\\Local\\\\Netease\\\\CloudMusic\\\\webapp91x64\\\\MANIFEST-000001', fd=-1),\n popenfile(path='C:\\\\Users\\\\alien\\\\AppData\\\\Local\\\\Netease\\\\CloudMusic\\\\webapp91x64\\\\Cache\\\\data_0', fd=-1),\n popenfile(path='C:\\\\Users\\\\alien\\\\AppData\\\\Local\\\\Netease\\\\CloudMusic\\\\webapp91x64\\\\Cookies', fd=-1),\n popenfile(path='C:\\\\Users\\\\alien\\\\AppData\\\\Local\\\\Netease\\\\CloudMusic\\\\webapp91x64\\\\GPUCache\\\\data_3', fd=-1),\n popenfile(path='C:\\\\Users\\\\alien\\\\AppData\\\\Local\\\\Netease\\\\CloudMusic\\\\webapp91x64\\\\Cache\\\\data_3', fd=-1),\n popenfile(path='C:\\\\Users\\\\alien\\\\AppData\\\\Local\\\\Netease\\\\CloudMusic\\\\NEIM_SYS\\\\nim_core_host.db', fd=-1),\n popenfile(path='C:\\\\Users\\\\alien\\\\AppData\\\\Local\\\\Netease\\\\CloudMusic\\\\Cache\\\\Cache\\\\2110827645-320-ae015e4d91e31e97a2efa1eabe7a5853.uc', fd=-1),\n popenfile(path='C:\\\\Program Files\\\\NetEase\\\\CloudMusic\\\\chrome_100_percent.pak', fd=-1),\n popenfile(path='C:\\\\Users\\\\alien\\\\AppData\\\\Local\\\\Netease\\\\CloudMusic\\\\webapp91x64\\\\Cache\\\\data_2', fd=-1),\n popenfile(path='C:\\\\Windows\\\\Registration\\\\R00000000000d.clb', fd=-1),\n popenfile(path='C:\\\\Program Files\\\\WindowsApps\\\\Microsoft.LanguageExperiencePackzh-CN_19041.70.233.0_neutral__8wekyb3d8bbwe\\\\Windows\\\\System32\\\\zh-CN\\\\shell32.dll.mui', fd=-1),\n popenfile(path='C:\\\\Users\\\\alien\\\\AppData\\\\Local\\\\Netease\\\\CloudMusic\\\\webapp91x64\\\\LOG', fd=-1),\n popenfile(path='C:\\\\Users\\\\alien\\\\AppData\\\\Local\\\\Netease\\\\CloudMusic\\\\Log\\\\BI\\\\cache\\\\Dawn\\\\cp_16056_15_2873928112', fd=-1),\n popenfile(path='C:\\\\Windows\\\\SystemResources\\\\shell32.dll.mun', fd=-1),\n popenfile(path='C:\\\\Users\\\\alien\\\\AppData\\\\Local\\\\Netease\\\\CloudMusic\\\\webapp91x64\\\\Local Storage\\\\leveldb\\\\LOG', fd=-1),\n popenfile(path='C:\\\\Users\\\\alien\\\\AppData\\\\Local\\\\Netease\\\\CloudMusic\\\\Log\\\\BI\\\\seq\\\\Dawn.seq', fd=-1),\n popenfile(path='C:\\\\Users\\\\alien\\\\AppData\\\\Local\\\\Netease\\\\CloudMusic\\\\webapp91x64\\\\Cookies-journal', fd=-1),\n popenfile(path='C:\\\\Users\\\\alien\\\\AppData\\\\Local\\\\Netease\\\\CloudMusic\\\\webapp91x64\\\\IndexedDB\\\\orpheus_orpheus_0.indexeddb.leveldb\\\\LOCK', fd=-1),\n popenfile(path='C:\\\\Users\\\\alien\\\\AppData\\\\Local\\\\Netease\\\\CloudMusic\\\\Cache\\\\Cache\\\\1990367714-3999-aa3183bd13a5d6fc8873613e5d24eb72.uc', fd=-1),\n popenfile(path='C:\\\\Users\\\\alien\\\\AppData\\\\Local\\\\Netease\\\\CloudMusic\\\\webapp91x64\\\\Local Storage\\\\leveldb\\\\000005.ldb', fd=-1),\n popenfile(path='C:\\\\Users\\\\alien\\\\AppData\\\\Local\\\\Netease\\\\CloudMusic\\\\webapp91x64\\\\LOCK', fd=-1),\n popenfile(path='C:\\\\Users\\\\alien\\\\AppData\\\\Local\\\\Netease\\\\CloudMusic\\\\Temp\\\\index.dat-journal', fd=-1),\n popenfile(path='C:\\\\Users\\\\alien\\\\AppData\\\\Local\\\\Netease\\\\CloudMusic\\\\webapp91x64\\\\Session Storage\\\\LOCK', fd=-1),\n popenfile(path='C:\\\\Users\\\\alien\\\\AppData\\\\Local\\\\Netease\\\\CloudMusic\\\\webapp91x64\\\\IndexedDB\\\\orpheus_orpheus_0.indexeddb.leveldb\\\\MANIFEST-000001', fd=-1),\n popenfile(path='C:\\\\Users\\\\alien\\\\AppData\\\\Local\\\\Netease\\\\CloudMusic\\\\webapp91x64\\\\000003.log', fd=-1),\n popenfile(path='C:\\\\Users\\\\alien\\\\AppData\\\\Local\\\\Temp\\\\pub\\\\public\\\\assets\\\\img\\\\common\\\\tray\\\\default_disc.png.ntpk.extracted', fd=-1),\n popenfile(path='C:\\\\Users\\\\alien\\\\AppData\\\\Local\\\\Netease\\\\CloudMusic\\\\NEIM_SYS\\\\nim_lite_key_conf.db', fd=-1),\n popenfile(path='C:\\\\Users\\\\alien\\\\AppData\\\\LocalLow\\\\SogouPy\\\\LOG\\\\IME\\\\cloudmusic_16056.log', fd=-1),\n popenfile(path='C:\\\\Users\\\\alien\\\\AppData\\\\Local\\\\Netease\\\\CloudMusic\\\\webapp91x64\\\\Cache\\\\data_1', fd=-1),\n popenfile(path='C:\\\\Users\\\\alien\\\\AppData\\\\Local\\\\Netease\\\\CloudMusic\\\\webapp91x64\\\\IndexedDB\\\\orpheus_orpheus_0.indexeddb.leveldb\\\\LOG', fd=-1),\n popenfile(path='C:\\\\Users\\\\alien\\\\AppData\\\\Local\\\\Netease\\\\CloudMusic\\\\Cache\\\\Cache\\\\index.dat', fd=-1),\n popenfile(path='C:\\\\Users\\\\alien\\\\AppData\\\\Local\\\\Netease\\\\CloudMusic\\\\webapp91x64\\\\Session Storage\\\\MANIFEST-000001', fd=-1),\n popenfile(path='C:\\\\Program Files\\\\WindowsApps\\\\Microsoft.LanguageExperiencePackzh-CN_19041.70.233.0_neutral__8wekyb3d8bbwe\\\\Windows\\\\System32\\\\zh-CN\\\\windows.storage.dll.mui', fd=-1),\n popenfile(path='C:\\\\Program Files\\\\NetEase\\\\CloudMusic\\\\resources.pak', fd=-1),\n popenfile(path='C:\\\\Users\\\\alien\\\\AppData\\\\Local\\\\Netease\\\\CloudMusic\\\\webapp91x64\\\\QuotaManager-journal', fd=-1),\n popenfile(path='C:\\\\Program Files\\\\NetEase\\\\CloudMusic\\\\icudtl.dat', fd=-1),\n popenfile(path='C:\\\\Users\\\\alien\\\\AppData\\\\Local\\\\Netease\\\\CloudMusic\\\\webapp91x64\\\\Session Storage\\\\000003.log', fd=-1),\n popenfile(path='C:\\\\Users\\\\alien\\\\AppData\\\\Local\\\\Netease\\\\CloudMusic\\\\webapp91x64\\\\Session Storage\\\\LOG', fd=-1),\n popenfile(path='C:\\\\Users\\\\alien\\\\AppData\\\\Local\\\\Netease\\\\CloudMusic\\\\webapp91x64\\\\IndexedDB\\\\orpheus_orpheus_0.indexeddb.leveldb\\\\000019.log', fd=-1),\n popenfile(path='C:\\\\Users\\\\alien\\\\AppData\\\\Local\\\\Netease\\\\CloudMusic\\\\Log\\\\BI\\\\cache\\\\Dawn\\\\cp.lock', fd=-1),\n popenfile(path='C:\\\\Program Files\\\\WindowsApps\\\\Microsoft.LanguageExperiencePackzh-CN_19041.70.233.0_neutral__8wekyb3d8bbwe\\\\Windows\\\\System32\\\\zh-CN\\\\wdmaud.drv.mui', fd=-1),\n popenfile(path='C:\\\\Windows\\\\System32\\\\en-US\\\\msacm32.drv.mui', fd=-1),\n popenfile(path='C:\\\\Users\\\\alien\\\\AppData\\\\Local\\\\Netease\\\\CloudMusic\\\\Temp\\\\a175ebb8cab1e55440f418979b3f8461', fd=-1),\n popenfile(path='C:\\\\Users\\\\alien\\\\AppData\\\\Local\\\\Netease\\\\CloudMusic\\\\webapp91x64\\\\GPUCache\\\\data_0', fd=-1),\n popenfile(path='C:\\\\Program Files\\\\WindowsApps\\\\Microsoft.LanguageExperiencePackzh-CN_19041.70.233.0_neutral__8wekyb3d8bbwe\\\\Windows\\\\System32\\\\zh-CN\\\\crypt32.dll.mui', fd=-1),\n popenfile(path='C:\\\\Users\\\\alien\\\\AppData\\\\Local\\\\Netease\\\\CloudMusic\\\\webapp91x64\\\\QuotaManager', fd=-1),\n popenfile(path='C:\\\\Users\\\\alien\\\\AppData\\\\Local\\\\Netease\\\\CloudMusic\\\\Library\\\\webdb.dat', fd=-1),\n popenfile(path='C:\\\\Users\\\\alien\\\\AppData\\\\Local\\\\Netease\\\\CloudMusic\\\\cloudmusic.elog', fd=-1),\n popenfile(path='C:\\\\Users\\\\alien\\\\AppData\\\\Local\\\\Netease\\\\CloudMusic\\\\webapp91x64\\\\GPUCache\\\\data_2', fd=-1),\n popenfile(path='C:\\\\Users\\\\alien\\\\AppData\\\\Local\\\\Netease\\\\CloudMusic\\\\webapp91x64\\\\GPUCache\\\\data_1', fd=-1),\n popenfile(path='C:\\\\Program Files\\\\WindowsApps\\\\Microsoft.LanguageExperiencePackzh-CN_19041.70.233.0_neutral__8wekyb3d8bbwe\\\\Windows\\\\System32\\\\zh-CN\\\\MMDevAPI.dll.mui', fd=-1),\n popenfile(path='C:\\\\Users\\\\alien\\\\AppData\\\\Local\\\\Netease\\\\CloudMusic\\\\Library\\\\library.dat', fd=-1),\n popenfile(path='C:\\\\Windows\\\\Fonts\\\\msyh.ttc', fd=-1),\n popenfile(path='C:\\\\Users\\\\alien\\\\AppData\\\\Local\\\\Netease\\\\CloudMusic\\\\webapp91x64\\\\GPUCache\\\\index', fd=-1),\n popenfile(path='C:\\\\Program Files\\\\NetEase\\\\CloudMusic\\\\v8_context_snapshot.bin', fd=-1),\n popenfile(path='C:\\\\Program Files\\\\WindowsApps\\\\Microsoft.LanguageExperiencePackzh-CN_19041.70.233.0_neutral__8wekyb3d8bbwe\\\\Windows\\\\System32\\\\zh-CN\\\\mpr.dll.mui', fd=-1),\n popenfile(path='C:\\\\Windows\\\\Fonts\\\\simsun.ttc', fd=-1),\n popenfile(path='C:\\\\Users\\\\alien\\\\AppData\\\\Local\\\\Netease\\\\CloudMusic\\\\webapp91x64\\\\Reporting and NEL', fd=-1),\n popenfile(path='C:\\\\Program Files\\\\WindowsApps\\\\Microsoft.LanguageExperiencePackzh-CN_19041.70.233.0_neutral__8wekyb3d8bbwe\\\\Windows\\\\System32\\\\zh-CN\\\\msctf.dll.mui', fd=-1),\n popenfile(path='C:\\\\Users\\\\alien\\\\AppData\\\\Local\\\\Netease\\\\CloudMusic\\\\webapp91x64\\\\databases\\\\Databases.db', fd=-1),\n popenfile(path='C:\\\\Users\\\\alien\\\\AppData\\\\Local\\\\Netease\\\\CloudMusic\\\\webapp91x64\\\\Local Storage\\\\leveldb\\\\LOCK', fd=-1),\n popenfile(path='C:\\\\Users\\\\alien\\\\AppData\\\\Local\\\\Netease\\\\CloudMusic\\\\Temp\\\\index.dat', fd=-1),\n popenfile(path='C:\\\\Program Files\\\\WindowsApps\\\\Microsoft.LanguageExperiencePackzh-CN_19041.70.233.0_neutral__8wekyb3d8bbwe\\\\Windows\\\\System32\\\\zh-CN\\\\propsys.dll.mui', fd=-1),\n popenfile(path='C:\\\\Users\\\\alien\\\\AppData\\\\Local\\\\Netease\\\\CloudMusic\\\\NEIM_SYS\\\\nim_core.log.nim_mmap', fd=-1),\n popenfile(path='C:\\\\Program Files\\\\NetEase\\\\CloudMusic\\\\locales\\\\en-US.pak', fd=-1),\n popenfile(path='C:\\\\Users\\\\alien\\\\AppData\\\\Local\\\\Netease\\\\CloudMusic\\\\webapp91x64\\\\IndexedDB\\\\orpheus_orpheus_0.indexeddb.leveldb\\\\000021.ldb', fd=-1),\n popenfile(path='C:\\\\Users\\\\alien\\\\AppData\\\\Local\\\\Netease\\\\CloudMusic\\\\Log\\\\BI\\\\cache\\\\Dawn\\\\cp_16056_17_3040830663', fd=-1),\n popenfile(path='C:\\\\Users\\\\alien\\\\AppData\\\\Local\\\\Netease\\\\CloudMusic\\\\Log\\\\bilog.elog.cahe', fd=-1),\n popenfile(path='C:\\\\Users\\\\alien\\\\AppData\\\\Local\\\\Netease\\\\CloudMusic\\\\webapp91x64\\\\Local Storage\\\\leveldb\\\\MANIFEST-000001', fd=-1)]"
     },
     "execution_count": 12,
     "metadata": {},
     "output_type": "execute_result"
    }
   ],
   "source": [
    "import psutil\n",
    "psutil.Process(pid).open_files()"
   ],
   "metadata": {
    "collapsed": false,
    "ExecuteTime": {
     "end_time": "2024-01-21T07:34:03.336978900Z",
     "start_time": "2024-01-21T07:34:03.158976300Z"
    }
   },
   "execution_count": 12
  },
  {
   "cell_type": "code",
   "outputs": [
    {
     "data": {
      "text/plain": "'0x196dc38'"
     },
     "execution_count": 13,
     "metadata": {},
     "output_type": "execute_result"
    }
   ],
   "source": [
    "hex(26663992)"
   ],
   "metadata": {
    "collapsed": false,
    "ExecuteTime": {
     "end_time": "2024-01-21T08:18:37.994705300Z",
     "start_time": "2024-01-21T08:18:37.986306200Z"
    }
   },
   "execution_count": 13
  },
  {
   "cell_type": "code",
   "outputs": [
    {
     "data": {
      "text/plain": "'2115507066'"
     },
     "execution_count": 129,
     "metadata": {},
     "output_type": "execute_result"
    }
   ],
   "source": [
    "offset = 0x0196DC38\n",
    "\n",
    "offsets = [0x398, 0x0, 0x0, 0x8, 0x8, 0x50, 0xBA0]\n",
    "\n",
    "songid_array = pointer_chain(process, base_dll_address + offset, offsets)\n",
    "song_id = r_bytes(process, songid_array, 0x14)\n",
    "song_id = song_id.decode('ascii').replace('\\x00', '').split('_')[0]\n",
    "song_id"
   ],
   "metadata": {
    "collapsed": false,
    "ExecuteTime": {
     "end_time": "2024-01-21T08:59:27.857633500Z",
     "start_time": "2024-01-21T08:59:27.836633400Z"
    }
   },
   "execution_count": 129
  },
  {
   "cell_type": "code",
   "outputs": [
    {
     "ename": "ArgumentError",
     "evalue": "argument 2: <class 'OverflowError'>: int too long to convert",
     "output_type": "error",
     "traceback": [
      "\u001B[1;31m---------------------------------------------------------------------------\u001B[0m",
      "\u001B[1;31mArgumentError\u001B[0m                             Traceback (most recent call last)",
      "Cell \u001B[1;32mIn[81], line 3\u001B[0m\n\u001B[0;32m      1\u001B[0m \u001B[38;5;28;01mimport\u001B[39;00m \u001B[38;5;21;01mReadWriteMemory\u001B[39;00m\n\u001B[0;32m      2\u001B[0m rwm_p \u001B[38;5;241m=\u001B[39m ReadWriteMemory\u001B[38;5;241m.\u001B[39mProcess(pid)\n\u001B[1;32m----> 3\u001B[0m rwm_p\u001B[38;5;241m.\u001B[39mget_pointer(base_dll_address \u001B[38;5;241m+\u001B[39m offset)\n",
      "File \u001B[1;32mC:\\Program Files\\Python39\\lib\\site-packages\\ReadWriteMemory\\__init__.py:77\u001B[0m, in \u001B[0;36mProcess.get_pointer\u001B[1;34m(self, lp_base_address, offsets)\u001B[0m\n\u001B[0;32m     68\u001B[0m \u001B[38;5;28;01mdef\u001B[39;00m \u001B[38;5;21mget_pointer\u001B[39m(\u001B[38;5;28mself\u001B[39m, lp_base_address: \u001B[38;5;28mhex\u001B[39m, offsets: List[\u001B[38;5;28mhex\u001B[39m] \u001B[38;5;241m=\u001B[39m ()) \u001B[38;5;241m-\u001B[39m\u001B[38;5;241m>\u001B[39m \u001B[38;5;28mint\u001B[39m:\n\u001B[0;32m     69\u001B[0m \u001B[38;5;250m    \u001B[39m\u001B[38;5;124;03m\"\"\"\u001B[39;00m\n\u001B[0;32m     70\u001B[0m \u001B[38;5;124;03m    Get the pointer of a given address.\u001B[39;00m\n\u001B[0;32m     71\u001B[0m \n\u001B[1;32m   (...)\u001B[0m\n\u001B[0;32m     75\u001B[0m \u001B[38;5;124;03m    :return: The pointer of a give address.\u001B[39;00m\n\u001B[0;32m     76\u001B[0m \u001B[38;5;124;03m    \"\"\"\u001B[39;00m\n\u001B[1;32m---> 77\u001B[0m     temp_address \u001B[38;5;241m=\u001B[39m \u001B[38;5;28;43mself\u001B[39;49m\u001B[38;5;241;43m.\u001B[39;49m\u001B[43mread\u001B[49m\u001B[43m(\u001B[49m\u001B[43mlp_base_address\u001B[49m\u001B[43m)\u001B[49m\n\u001B[0;32m     78\u001B[0m     pointer \u001B[38;5;241m=\u001B[39m \u001B[38;5;241m0x0\u001B[39m\n\u001B[0;32m     79\u001B[0m     \u001B[38;5;28;01mif\u001B[39;00m \u001B[38;5;129;01mnot\u001B[39;00m offsets:\n",
      "File \u001B[1;32mC:\\Program Files\\Python39\\lib\\site-packages\\ReadWriteMemory\\__init__.py:100\u001B[0m, in \u001B[0;36mProcess.read\u001B[1;34m(self, lp_base_address)\u001B[0m\n\u001B[0;32m     98\u001B[0m     n_size \u001B[38;5;241m=\u001B[39m ctypes\u001B[38;5;241m.\u001B[39msizeof(read_buffer)\n\u001B[0;32m     99\u001B[0m     lp_number_of_bytes_read \u001B[38;5;241m=\u001B[39m ctypes\u001B[38;5;241m.\u001B[39mc_ulong(\u001B[38;5;241m0\u001B[39m)\n\u001B[1;32m--> 100\u001B[0m     \u001B[43mctypes\u001B[49m\u001B[38;5;241;43m.\u001B[39;49m\u001B[43mwindll\u001B[49m\u001B[38;5;241;43m.\u001B[39;49m\u001B[43mkernel32\u001B[49m\u001B[38;5;241;43m.\u001B[39;49m\u001B[43mReadProcessMemory\u001B[49m\u001B[43m(\u001B[49m\u001B[38;5;28;43mself\u001B[39;49m\u001B[38;5;241;43m.\u001B[39;49m\u001B[43mhandle\u001B[49m\u001B[43m,\u001B[49m\u001B[43m \u001B[49m\u001B[43mlp_base_address\u001B[49m\u001B[43m,\u001B[49m\u001B[43m \u001B[49m\u001B[43mlp_buffer\u001B[49m\u001B[43m,\u001B[49m\n\u001B[0;32m    101\u001B[0m \u001B[43m                                             \u001B[49m\u001B[43mn_size\u001B[49m\u001B[43m,\u001B[49m\u001B[43m \u001B[49m\u001B[43mlp_number_of_bytes_read\u001B[49m\u001B[43m)\u001B[49m\n\u001B[0;32m    102\u001B[0m     \u001B[38;5;28;01mreturn\u001B[39;00m read_buffer\u001B[38;5;241m.\u001B[39mvalue\n\u001B[0;32m    103\u001B[0m \u001B[38;5;28;01mexcept\u001B[39;00m (\u001B[38;5;167;01mBufferError\u001B[39;00m, \u001B[38;5;167;01mValueError\u001B[39;00m, \u001B[38;5;167;01mTypeError\u001B[39;00m) \u001B[38;5;28;01mas\u001B[39;00m error:\n",
      "\u001B[1;31mArgumentError\u001B[0m: argument 2: <class 'OverflowError'>: int too long to convert"
     ]
    }
   ],
   "source": [
    "import ReadWriteMemory\n",
    "rwm_p = ReadWriteMemory.Process(pid)\n",
    "rwm_p.get_pointer(base_dll_address + offset)"
   ],
   "metadata": {
    "collapsed": false,
    "ExecuteTime": {
     "end_time": "2024-01-21T08:43:50.582101500Z",
     "start_time": "2024-01-21T08:43:50.559090200Z"
    }
   },
   "execution_count": 81
  },
  {
   "cell_type": "code",
   "execution_count": 6,
   "metadata": {
    "collapsed": false,
    "ExecuteTime": {
     "end_time": "2023-08-04T04:08:23.117014100Z",
     "start_time": "2023-08-04T04:08:16.832656500Z"
    }
   },
   "outputs": [
    {
     "data": {
      "text/plain": "  0%|          | 0/327680 [00:00<?, ?it/s]",
      "application/vnd.jupyter.widget-view+json": {
       "version_major": 2,
       "version_minor": 0,
       "model_id": "7c9cb5b8dcfe41a488ce91bdfec14836"
      }
     },
     "metadata": {},
     "output_type": "display_data"
    },
    {
     "name": "stdout",
     "output_type": "stream",
     "text": [
      "found current at 0x18EF318: 16.527148\n",
      "found song array offset at 0x192D6A0: 1458767558\n",
      "song array offsets: [0x48, 0x30, 0x70, 0x0]\n"
     ]
    }
   ],
   "source": [
    "# Scanning for V3.0 clients (not working fully)\n",
    "import math\n",
    "from tqdm.auto import tqdm\n",
    "\n",
    "found_songarray = False\n",
    "found_current = False\n",
    "offsets = [0x48, 0x30, 0x70, 0x0]  # need to find using cheat engine, see scanning.txt\n",
    "for offset in tqdm(range(0x18e0000, 0x1930000)): # Change to range of cloudmusic.dll in cheat engine\n",
    "    if found_current and found_songarray:\n",
    "        break\n",
    "\n",
    "    if not found_current:\n",
    "        try:\n",
    "            current = r_float64(process, base_dll_address + offset)\n",
    "            if math.floor(current) == 16:  # Change to current progress, in seconds\n",
    "                print('found current at 0x%X: %f' % (offset, current))\n",
    "                found_current = True\n",
    "        except Exception as e:\n",
    "            pass\n",
    "    \n",
    "    if not found_songarray:\n",
    "        try:\n",
    "            songid_array = pointer_chain_64(process, base_dll_address + offset, offsets)\n",
    "            string = '1458767558'  # Change to current song ID\n",
    "            song_id = r_bytes(process, songid_array, 0x14)\n",
    "            song_id = bytes([b for b in song_id if b <= 128])  # filter to ascii only\n",
    "            song_id = song_id.decode('ascii').split('_')[0]\n",
    "            if song_id == string:\n",
    "                print('found song array offset at 0x%X: %s' % (offset, song_id))\n",
    "                print('song array offsets: [' + ', '.join([hex(o) for o in offsets]) + ']')\n",
    "                found_songarray = True\n",
    "        except Exception as e:\n",
    "            pass"
   ]
  }
 ],
 "metadata": {
  "kernelspec": {
   "display_name": "Python 3",
   "language": "python",
   "name": "python3"
  },
  "language_info": {
   "codemirror_mode": {
    "name": "ipython",
    "version": 3
   },
   "file_extension": ".py",
   "mimetype": "text/x-python",
   "name": "python",
   "nbconvert_exporter": "python",
   "pygments_lexer": "ipython3",
   "version": "3.11.2"
  }
 },
 "nbformat": 4,
 "nbformat_minor": 0
}
