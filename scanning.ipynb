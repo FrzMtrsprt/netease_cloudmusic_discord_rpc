{
 "cells": [
  {
   "cell_type": "code",
   "execution_count": 1,
   "outputs": [
    {
     "name": "stdout",
     "output_type": "stream",
     "text": [
      "found version: 3.0.1.5106\n"
     ]
    }
   ],
   "source": [
    "import wmi\n",
    "import gc\n",
    "from win32api import GetFileVersionInfo, HIWORD, LOWORD\n",
    "wmic = wmi.WMI()\n",
    "process = wmic.Win32_Process(name=\"cloudmusic.exe\")\n",
    "process = [p for p in process if '--type=' not in p.ole_object.CommandLine]\n",
    "if not process:\n",
    "    raise RuntimeError('No candidate process found')\n",
    "elif len(process) != 1:\n",
    "    raise RuntimeError('Multiple candidate processes found!')\n",
    "else:\n",
    "    process = process[0]\n",
    "    pid = process.ole_object.ProcessId\n",
    "    ver_info = GetFileVersionInfo(process.ole_object.ExecutablePath, '\\\\')\n",
    "    ver = f\"{HIWORD(ver_info['FileVersionMS'])}.{LOWORD(ver_info['FileVersionMS'])}.\" \\\n",
    "          f\"{HIWORD(ver_info['FileVersionLS'])}.{LOWORD(ver_info['FileVersionLS'])}\"\n",
    "    print(f'found version: {ver}')\n",
    "    del process\n",
    "    del wmic\n",
    "    gc.collect()"
   ],
   "metadata": {
    "collapsed": false,
    "ExecuteTime": {
     "end_time": "2023-08-03T14:16:41.522841Z",
     "start_time": "2023-08-03T14:16:41.323571800Z"
    }
   }
  },
  {
   "cell_type": "code",
   "execution_count": 7,
   "outputs": [
    {
     "name": "stdout",
     "output_type": "stream",
     "text": [
      "base_address: 0x7FF822920000\n"
     ]
    }
   ],
   "source": [
    "from pyMeow import open_process, get_module, r_float64, r_bytes, r_uint\n",
    "\n",
    "process = open_process(pid)\n",
    "base_address = get_module(process, 'cloudmusic.dll')['base']\n",
    "print('base_address: 0x%X' % base_address)"
   ],
   "metadata": {
    "collapsed": false,
    "ExecuteTime": {
     "end_time": "2023-08-03T15:23:33.260932700Z",
     "start_time": "2023-08-03T15:23:33.209886500Z"
    }
   }
  },
  {
   "cell_type": "code",
   "execution_count": 9,
   "outputs": [
    {
     "data": {
      "text/plain": "float"
     },
     "execution_count": 9,
     "metadata": {},
     "output_type": "execute_result"
    }
   ],
   "source": [
    "type(r_float64(process, base_address + 0x18ed7c8))"
   ],
   "metadata": {
    "collapsed": false,
    "ExecuteTime": {
     "end_time": "2023-08-03T15:23:48.142023800Z",
     "start_time": "2023-08-03T15:23:48.115999600Z"
    }
   }
  },
  {
   "cell_type": "code",
   "execution_count": 16,
   "metadata": {
    "collapsed": false,
    "ExecuteTime": {
     "end_time": "2023-08-03T15:34:20.154014300Z",
     "start_time": "2023-08-03T15:28:38.934284600Z"
    }
   },
   "outputs": [
    {
     "data": {
      "text/plain": "  0%|          | 0/28684288 [00:00<?, ?it/s]",
      "application/vnd.jupyter.widget-view+json": {
       "version_major": 2,
       "version_minor": 0,
       "model_id": "cfac647b05264812861ac5d217589176"
      }
     },
     "metadata": {},
     "output_type": "display_data"
    },
    {
     "name": "stdout",
     "output_type": "stream",
     "text": [
      "found current at 0x18ED7C8: 33.710000\n",
      "found length at 0x192D548: 255.240000\n"
     ]
    }
   ],
   "source": [
    "import math\n",
    "from tqdm.auto import tqdm\n",
    "\n",
    "found_songarray = False\n",
    "found_length = False\n",
    "found_current = False\n",
    "for offset in tqdm(range(0x18e0000, 0x343b000)): # Change to range of cloudmusic.dll in cheat engine\n",
    "    if found_songarray and found_length and found_current:\n",
    "        break\n",
    "    if not found_songarray:\n",
    "        try:\n",
    "            songid_array = r_uint(process, base_address + offset)\n",
    "            string = '1458767558'  # Change to current song ID\n",
    "            song_id = r_bytes(process, songid_array, len(string) * 2).decode('utf-16')\n",
    "            if song_id == string:\n",
    "                print('found song array offset at 0x%X: %s' % (offset, song_id))\n",
    "                found_songarray = True\n",
    "        except Exception as e:\n",
    "            pass\n",
    "    \n",
    "    if not found_length:\n",
    "        try:\n",
    "            length = r_float64(process, base_address + offset)\n",
    "            if math.floor(length) == 255:  # Change to song length, in seconds\n",
    "                print('found length at 0x%X: %f' % (offset, length))\n",
    "                found_length = True\n",
    "        except Exception as e:\n",
    "            pass\n",
    "\n",
    "    if not found_current:\n",
    "        try:\n",
    "            current = r_float64(process, base_address + offset)\n",
    "            if math.floor(current) == 33:  # Change to current progress, in seconds\n",
    "                print('found current at 0x%X: %f' % (offset, current))\n",
    "                found_current = True\n",
    "        except Exception as e:\n",
    "            pass"
   ]
  }
 ],
 "metadata": {
  "kernelspec": {
   "display_name": "Python 3",
   "language": "python",
   "name": "python3"
  },
  "language_info": {
   "codemirror_mode": {
    "name": "ipython",
    "version": 3
   },
   "file_extension": ".py",
   "mimetype": "text/x-python",
   "name": "python",
   "nbconvert_exporter": "python",
   "pygments_lexer": "ipython3",
   "version": "3.11.2"
  }
 },
 "nbformat": 4,
 "nbformat_minor": 0
}
