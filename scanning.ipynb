{
 "cells": [
  {
   "cell_type": "code",
   "execution_count": 1,
   "outputs": [
    {
     "name": "stdout",
     "output_type": "stream",
     "text": [
      "found version: 2.10.12.5241\n"
     ]
    }
   ],
   "source": [
    "import wmi\n",
    "import gc\n",
    "from win32api import GetFileVersionInfo, HIWORD, LOWORD\n",
    "wmic = wmi.WMI()\n",
    "process = wmic.Win32_Process(name=\"cloudmusic.exe\")\n",
    "process = [p for p in process if '--type=' not in p.ole_object.CommandLine]\n",
    "if not process:\n",
    "    raise RuntimeError('No candidate process found')\n",
    "elif len(process) != 1:\n",
    "    raise RuntimeError('Multiple candidate processes found!')\n",
    "else:\n",
    "    process = process[0]\n",
    "    pid = process.ole_object.ProcessId\n",
    "    ver_info = GetFileVersionInfo(process.ole_object.ExecutablePath, '\\\\')\n",
    "    ver = f\"{HIWORD(ver_info['FileVersionMS'])}.{LOWORD(ver_info['FileVersionMS'])}.\" \\\n",
    "          f\"{HIWORD(ver_info['FileVersionLS'])}.{LOWORD(ver_info['FileVersionLS'])}\"\n",
    "    print(f'found version: {ver}')\n",
    "    del process\n",
    "    del wmic\n",
    "    gc.collect()"
   ],
   "metadata": {
    "collapsed": false,
    "ExecuteTime": {
     "end_time": "2023-10-26T15:08:30.596087Z",
     "start_time": "2023-10-26T15:08:30.372213Z"
    }
   }
  },
  {
   "cell_type": "code",
   "execution_count": 2,
   "outputs": [
    {
     "name": "stdout",
     "output_type": "stream",
     "text": [
      "base_exe_address: 0x4A0000\n",
      "base_dll_address: 0x797E0000\n"
     ]
    }
   ],
   "source": [
    "from pyMeow import *\n",
    "\n",
    "process = open_process(pid)\n",
    "base_exe_address = get_module(process, 'cloudmusic.exe')['base']\n",
    "base_dll_address = get_module(process, 'cloudmusic.dll')['base']\n",
    "print('base_exe_address: 0x%X' % base_exe_address)\n",
    "print('base_dll_address: 0x%X' % base_dll_address)"
   ],
   "metadata": {
    "collapsed": false,
    "ExecuteTime": {
     "end_time": "2023-10-26T15:08:37.657213400Z",
     "start_time": "2023-10-26T15:08:37.614563400Z"
    }
   }
  },
  {
   "cell_type": "code",
   "execution_count": 6,
   "outputs": [
    {
     "name": "stdout",
     "output_type": "stream",
     "text": [
      "found current at 0xA7A580: 38.851000\n",
      "found song array offset at 0xB2BCB0: 1458767558\n",
      "found length at 0xB2CA98: 255.205306\n"
     ]
    }
   ],
   "source": [
    "# Scanning for V2.x clients\n",
    "import math\n",
    "\n",
    "found_songarray = False\n",
    "found_length = False\n",
    "found_current = False\n",
    "for offset in range(0xA7A580, 0xC20000): # Change to estimated memory range\n",
    "    if found_songarray and found_length and found_current:\n",
    "        break\n",
    "    if not found_songarray:\n",
    "        try:\n",
    "            songid_array = r_uint(process, base_dll_address + offset)\n",
    "            string = '1458767558'  # Change to current song ID\n",
    "            song_id = r_bytes(process, songid_array, len(string) * 2).decode('utf-16')\n",
    "            if song_id == string:\n",
    "                print('found song array offset at 0x%X: %s' % (offset, song_id))\n",
    "                found_songarray = True\n",
    "        except Exception as e:\n",
    "            pass\n",
    "\n",
    "    if not found_length:\n",
    "        try:\n",
    "            length = r_float64(process, base_dll_address + offset)\n",
    "            if math.floor(length) == 255:  # Change to song length, in seconds\n",
    "                print('found length at 0x%X: %f' % (offset, length))\n",
    "                found_length = True\n",
    "        except Exception as e:\n",
    "            pass\n",
    "\n",
    "    if not found_current:\n",
    "        try:\n",
    "            current = r_float64(process, base_dll_address + offset)\n",
    "            if math.floor(current) == 38:  # Change to current progress, in seconds\n",
    "                print('found current at 0x%X: %f' % (offset, current))\n",
    "                found_current = True\n",
    "        except Exception as e:\n",
    "            pass"
   ],
   "metadata": {
    "collapsed": false,
    "ExecuteTime": {
     "end_time": "2023-10-26T15:13:15.516077600Z",
     "start_time": "2023-10-26T15:13:04.607708300Z"
    }
   }
  },
  {
   "cell_type": "code",
   "execution_count": 6,
   "metadata": {
    "collapsed": false,
    "ExecuteTime": {
     "end_time": "2023-08-04T04:08:23.117014100Z",
     "start_time": "2023-08-04T04:08:16.832656500Z"
    }
   },
   "outputs": [
    {
     "data": {
      "text/plain": "  0%|          | 0/327680 [00:00<?, ?it/s]",
      "application/vnd.jupyter.widget-view+json": {
       "version_major": 2,
       "version_minor": 0,
       "model_id": "7c9cb5b8dcfe41a488ce91bdfec14836"
      }
     },
     "metadata": {},
     "output_type": "display_data"
    },
    {
     "name": "stdout",
     "output_type": "stream",
     "text": [
      "found current at 0x18EF318: 16.527148\n",
      "found song array offset at 0x192D6A0: 1458767558\n",
      "song array offsets: [0x48, 0x30, 0x70, 0x0]\n"
     ]
    }
   ],
   "source": [
    "# Scanning for V3.0 clients (not working fully)\n",
    "import math\n",
    "from tqdm.auto import tqdm\n",
    "\n",
    "found_songarray = False\n",
    "found_current = False\n",
    "offsets = [0x48, 0x30, 0x70, 0x0]  # need to find using cheat engine, see scanning.txt\n",
    "for offset in tqdm(range(0x18e0000, 0x1930000)): # Change to range of cloudmusic.dll in cheat engine\n",
    "    if found_current and found_songarray:\n",
    "        break\n",
    "\n",
    "    if not found_current:\n",
    "        try:\n",
    "            current = r_float64(process, base_dll_address + offset)\n",
    "            if math.floor(current) == 16:  # Change to current progress, in seconds\n",
    "                print('found current at 0x%X: %f' % (offset, current))\n",
    "                found_current = True\n",
    "        except Exception as e:\n",
    "            pass\n",
    "    \n",
    "    if not found_songarray:\n",
    "        try:\n",
    "            songid_array = pointer_chain_64(process, base_dll_address + offset, offsets)\n",
    "            string = '1458767558'  # Change to current song ID\n",
    "            song_id = r_bytes(process, songid_array, 0x14)\n",
    "            song_id = bytes([b for b in song_id if b <= 128])  # filter to ascii only\n",
    "            song_id = song_id.decode('ascii').split('_')[0]\n",
    "            if song_id == string:\n",
    "                print('found song array offset at 0x%X: %s' % (offset, song_id))\n",
    "                print('song array offsets: [' + ', '.join([hex(o) for o in offsets]) + ']')\n",
    "                found_songarray = True\n",
    "        except Exception as e:\n",
    "            pass"
   ]
  }
 ],
 "metadata": {
  "kernelspec": {
   "display_name": "Python 3",
   "language": "python",
   "name": "python3"
  },
  "language_info": {
   "codemirror_mode": {
    "name": "ipython",
    "version": 3
   },
   "file_extension": ".py",
   "mimetype": "text/x-python",
   "name": "python",
   "nbconvert_exporter": "python",
   "pygments_lexer": "ipython3",
   "version": "3.11.2"
  }
 },
 "nbformat": 4,
 "nbformat_minor": 0
}
